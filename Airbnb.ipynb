{
 "cells": [
  {
   "attachments": {},
   "cell_type": "markdown",
   "metadata": {},
   "source": [
    "# Análisis de datos de alquileres en Nueva York\n"
   ]
  },
  {
   "cell_type": "code",
   "execution_count": 21,
   "metadata": {},
   "outputs": [],
   "source": [
    "import pandas as pd\n",
    "import numpy as np\n",
    "import matplotlib.pyplot as plt\n",
    "\n",
    "# Read in the data\n",
    "df = pd.read_csv('./ConjuntosDeDatos/AirBnB2clean.csv')"
   ]
  },
  {
   "attachments": {},
   "cell_type": "markdown",
   "metadata": {},
   "source": [
    "Ahora tengo los datos en df,hago un primer approach de visualización"
   ]
  },
  {
   "cell_type": "code",
   "execution_count": 22,
   "metadata": {},
   "outputs": [
    {
     "name": "stdout",
     "output_type": "stream",
     "text": [
      "(48895, 16)\n",
      "      id                                               name  host_id  \\\n",
      "0  20739  Perfect 2-bedroom in the best part of Williams...    24864   \n",
      "1  65164                                    Ditmas park lot    62595   \n",
      "2  23090            Doorman Gym 2 Beds Luxury Building!5211    52328   \n",
      "3  36673       seagate pravite house 5 mins away from beach     3184   \n",
      "4  52600  Sunny & Clean Apt  ideal location E.Williamsburg!    43677   \n",
      "\n",
      "        host_name neighbourhood_group neighbourhood  latitude  longitude  \\\n",
      "0        Angelina            BROOKLYN             -  40.71983  -73.96465   \n",
      "1           Brian            Brooklyn      Flatbush  40.63809  -73.96445   \n",
      "2  Jeremy & Laura           Manhattan   Murray Hill  40.74404  -73.97217   \n",
      "3           Tural            BROOKLYN      Sea Gate  40.57531  -74.00518   \n",
      "4          Shahar            BROOKLYN  Williamsburg  40.70684  -73.93854   \n",
      "\n",
      "         room_type        price  minimum_nights  number_of_reviews  \\\n",
      "0  Entire home/apt        $ 249              30                  0   \n",
      "1     Private room          $60               2                  0   \n",
      "2     Private room  135 Dollars              30                  2   \n",
      "3  Entire home/apt       USD 99               4                  0   \n",
      "4  Entire home/apt          $90               7                  6   \n",
      "\n",
      "  last_review  reviews_per_month  calculated_host_listings_count  \\\n",
      "0         NaN                NaN                               1   \n",
      "1         NaN                NaN                               1   \n",
      "2  2017-03-31               0.07                              96   \n",
      "3         NaN                NaN                               1   \n",
      "4  2019-06-07               0.15                               2   \n",
      "\n",
      "   availability_365  \n",
      "0                 0  \n",
      "1               173  \n",
      "2               303  \n",
      "3                19  \n",
      "4               302  \n"
     ]
    }
   ],
   "source": [
    "# shape of df\n",
    "print(df.shape)\n",
    "\n",
    "# head of df\n",
    "print(df.head())\n"
   ]
  },
  {
   "attachments": {},
   "cell_type": "markdown",
   "metadata": {},
   "source": [
    "Ya con ver el head hay varios issues:\n",
    "- Brooklyn aparece en minúscula y en mayúscula. \n",
    "- Los precios aparecen como $, Dollars o USD\n",
    "- Hay datos sin el Neighborhood marcado\n",
    "- Si no tiene reviews, reviews_per_month es NaN en vez de 0"
   ]
  },
  {
   "cell_type": "code",
   "execution_count": 23,
   "metadata": {},
   "outputs": [
    {
     "name": "stdout",
     "output_type": "stream",
     "text": [
      "['BROOKLYN' 'Brooklyn' 'Manhattan' 'MANHATTAN' 'BROKLYN/NY' 'QUEENS'\n",
      " 'Manhattan/NY' 'Broo.' 'Manh.' 'Queens' 'BRONX' 'Bronx' 'Queens/NYC'\n",
      " 'MANHATAN' 'STATEN ISLAND' 'Staten Island' 'ST. ISL.' 'Staten Isl.']\n"
     ]
    }
   ],
   "source": [
    "#list all unique values in the column 'neighbourhood_group'\n",
    "print(df.neighbourhood_group.unique())"
   ]
  },
  {
   "cell_type": "code",
   "execution_count": 24,
   "metadata": {},
   "outputs": [
    {
     "name": "stdout",
     "output_type": "stream",
     "text": [
      "['Brooklyn' 'Manhattan' 'Queens' 'Bronx' 'Staten Island']\n"
     ]
    }
   ],
   "source": [
    "# 'BROOKLYN' 'Brooklyn' 'BROKLYN/NY' 'Broo.' should be fused\n",
    "# 'Manhattan' 'MANHATTAN' 'Manhattan/NY' 'Manh.' 'MANHATAN' should be fused\n",
    "# 'QUEENS' 'Queens' 'Queens/NYC' should be fused\n",
    "# 'BRONX' 'Bronx' should be fused\n",
    "# 'STATEN ISLAND' 'Staten Island' 'ST. ISL.' 'Staten Isl.' should be fused\n",
    "\n",
    "# Replace the values in the column 'neighbourhood_group'\n",
    "df.neighbourhood_group.replace(['BROOKLYN', 'Brooklyn', 'BROKLYN/NY', 'Broo.'], 'Brooklyn', inplace=True)\n",
    "df.neighbourhood_group.replace(['Manhattan', 'MANHATTAN', 'Manhattan/NY', 'Manh.', 'MANHATAN'], 'Manhattan', inplace=True)\n",
    "df.neighbourhood_group.replace(['QUEENS', 'Queens', 'Queens/NYC'], 'Queens', inplace=True)\n",
    "df.neighbourhood_group.replace(['BRONX', 'Bronx'], 'Bronx', inplace=True)\n",
    "df.neighbourhood_group.replace(['STATEN ISLAND', 'Staten Island', 'ST. ISL.', 'Staten Isl.'], 'Staten Island', inplace=True)\n",
    "\n",
    "#list all unique values in the column 'neighbourhood_group'\n",
    "print(df.neighbourhood_group.unique()) #sanity check"
   ]
  },
  {
   "cell_type": "code",
   "execution_count": 32,
   "metadata": {},
   "outputs": [
    {
     "name": "stdout",
     "output_type": "stream",
     "text": [
      "['-' 'Flatbush' 'Murray Hill' 'Sea Gate' 'Williamsburg'\n",
      " 'Bedford-Stuyvesant' 'Chelsea' 'Park Slope' 'Fresh Meadows'\n",
      " \"Hell's Kitchen\" 'Upper West Side' 'West Village' 'SoHo'\n",
      " 'Prospect-Lefferts Gardens' 'Chinatown' 'Bushwick' 'Ridgewood' 'Kips Bay'\n",
      " 'Crown Heights' 'Gramercy' 'Upper East Side' 'South Slope'\n",
      " 'Financial District' 'Prospect Heights' 'Elmhurst' 'Lower East Side'\n",
      " 'Midtown' 'East New York' 'Greenpoint' 'Harlem' 'Gravesend'\n",
      " 'Sheepshead Bay' 'East Village' 'Long Island City' 'NoHo' 'Fort Greene'\n",
      " 'Midwood' 'Morris Park' 'Boerum Hill' 'South Ozone Park' 'Flushing'\n",
      " 'East Harlem' 'Inwood' 'Sunset Park' 'Pelham Gardens' 'Astoria'\n",
      " 'Sunnyside' 'Morris Heights' 'Brownsville' 'East Elmhurst' 'Civic Center'\n",
      " 'Washington Heights' 'Bay Ridge' 'Clinton Hill' 'Wakefield'\n",
      " 'East Flatbush' 'Brooklyn Heights' 'Morningside Heights'\n",
      " 'Theater District' 'Tribeca' 'Middle Village' 'Canarsie' 'Kingsbridge'\n",
      " 'Bellerose' 'Kensington' 'Cypress Hills' 'Windsor Terrace' 'Flatlands'\n",
      " 'Jamaica' 'Little Italy' 'Roosevelt Island' 'Gowanus' 'Ditmars Steinway'\n",
      " 'Richmond Hill' 'Greenwich Village' 'Kew Gardens Hills' 'Borough Park'\n",
      " 'Port Morris' 'Carroll Gardens' 'Forest Hills' 'Woodside' 'Morrisania'\n",
      " 'Battery Park City' 'Queens Village' 'Fordham' 'Hollis' 'East Morrisania'\n",
      " 'St. George' 'Eastchester' 'Nolita' 'Laurelton' 'Brighton Beach'\n",
      " 'Maspeth' 'Rockaway Beach' 'Parkchester' 'Red Hook' 'Stapleton'\n",
      " 'Vinegar Hill' 'Springfield Gardens' 'Rego Park' 'Stuyvesant Town'\n",
      " 'Woodhaven' 'Rosedale' 'Williamsbridge' 'Longwood' 'Mount Hope'\n",
      " 'Huguenot' 'Two Bridges' 'Concord' 'Glendale' 'Briarwood' 'Bensonhurst'\n",
      " 'Jackson Heights' 'City Island' 'Pelham Bay' 'Downtown Brooklyn'\n",
      " 'University Heights' 'Arverne' 'Mott Haven' 'Kew Gardens'\n",
      " 'New Dorp Beach' 'Bath Beach' 'Bronxdale' 'Shore Acres' 'Concourse'\n",
      " 'Ozone Park' 'Flatiron District' 'Bergen Beach' 'Columbia St'\n",
      " 'Throgs Neck' 'DUMBO' 'Cobble Hill' 'Arrochar' 'Highbridge'\n",
      " 'Fort Hamilton' 'Tompkinsville' 'Claremont Village' 'Manhattan Beach'\n",
      " 'Concourse Village' 'Soundview' 'Tottenville' 'Bayside' 'Allerton'\n",
      " 'Van Nest' 'College Point' 'Douglaston' 'Clason Point' 'St. Albans'\n",
      " 'Bayswater' 'Mount Eden' 'Breezy Point' 'Melrose' 'Belle Harbor'\n",
      " 'Clifton' 'Hunts Point' 'Belmont' 'Corona' 'Jamaica Estates'\n",
      " 'Randall Manor' 'Tremont' 'Marble Hill' 'Schuylerville' 'Port Richmond'\n",
      " 'Navy Yard' 'Howland Hook' 'Spuyten Duyvil' 'Grant City' 'Whitestone'\n",
      " 'Edenwald' 'Cambria Heights' 'Dyker Heights' 'Great Kills' 'Mill Basin'\n",
      " 'Emerson Hill' 'New Springville' 'Riverdale' 'West Brighton'\n",
      " 'Coney Island' 'Norwood' 'North Riverdale' 'Dongan Hills' 'Neponsit'\n",
      " 'Castle Hill' 'Midland Beach' 'Unionport' 'Oakwood' 'Far Rockaway'\n",
      " 'Little Neck' 'Eltingville' 'Howard Beach' 'Mariners Harbor'\n",
      " 'South Beach' 'Olinville' 'Grymes Hill' 'Woodlawn' 'Westchester Square'\n",
      " 'Fieldston' 'Edgemere' 'Rosebank' 'Baychester' 'Rossville' 'Bay Terrace'\n",
      " \"Prince's Bay\" \"Bull's Head\" 'Jamaica Hills' 'Woodrow' 'Graniteville'\n",
      " 'New Brighton' 'Castleton Corners' 'Todt Hill' 'Westerleigh'\n",
      " 'Bay Terrace, Staten Island' 'New Dorp' 'Lighthouse Hill' 'Arden Heights'\n",
      " 'West Farms' 'Co-op City' 'Holliswood' 'Richmondtown' 'Willowbrook']\n"
     ]
    }
   ],
   "source": [
    "#list all unique values in the column 'neighbourhood' ordered alphabetically\n",
    "print(df.neighbourhood.unique())"
   ]
  },
  {
   "attachments": {},
   "cell_type": "markdown",
   "metadata": {},
   "source": [
    "There seem to be no coincidences in the 221 neighborhoods."
   ]
  },
  {
   "cell_type": "code",
   "execution_count": 25,
   "metadata": {},
   "outputs": [
    {
     "name": "stdout",
     "output_type": "stream",
     "text": [
      "['230' '$ 41' 'USD 85' '200 Do.' '$ 38' '59 Dollars' 'USD 119' '74'\n",
      " 'USD 198' 'USD 129' '125' 'USD 35' '50 Dollars' '$274' 'USD 125' '175'\n",
      " '220 Dollars' '140' '241 Dollars' '$ 35' 'USD 123' '350 Dollars'\n",
      " '195 Do.' '199 Do.' 'USD 200' '$225' 'USD 325' '225 Dollars' '70 Do.'\n",
      " 'USD 890' '$475' '250' '96 Dollars' '46 Dollars' '$ 90' '375 Dollars'\n",
      " '$165' '55 Dollars' '190 Dollars' '$155' '$40' '105 Dollars' '$ 255'\n",
      " '$280' 'USD 130' '53' '20' 'USD 300' '75 Dollars' '299' '$ 737' '$72'\n",
      " 'USD 134' '70 Dollars' 'USD 195' '65 Do.' '269' '$99' '200' '$ 95']\n"
     ]
    }
   ],
   "source": [
    "#print some unique values in the price column\n",
    "print(df.price.unique()[40:100])"
   ]
  },
  {
   "cell_type": "code",
   "execution_count": 26,
   "metadata": {},
   "outputs": [
    {
     "name": "stdout",
     "output_type": "stream",
     "text": [
      "[  74.  198.  129.   35.  274.  175.  220.  140.  241.  123.  350.  195.\n",
      "  325.  890.  475.   96.   46.  375.  165.   55.  190.  155.  105.  255.\n",
      "  280.  130.   53.   20.  737.   72.  134.   65.  269.   95.  379.  287.\n",
      "   51.  100.   36.   12.   49.  170.  160.  172.  399.  189.   52.  112.\n",
      "  124.  117.  187.  289.  136.  159. 6419.  550.  151.  347.  227.  239.]\n"
     ]
    }
   ],
   "source": [
    "# now fix the issue with dollar signs, retaining only the numeric values\n",
    "df.price = df.price.str.replace('[^\\d.]', '', regex=True) #remove all non-numeric characters\n",
    "df.price = df.price.astype(float)\n",
    "\n",
    "# sanity check\n",
    "print(df.price.unique()[40:100])\n"
   ]
  },
  {
   "cell_type": "code",
   "execution_count": 28,
   "metadata": {},
   "outputs": [
    {
     "name": "stdout",
     "output_type": "stream",
     "text": [
      "[0.   0.07 0.15 3.88 4.69 0.22 0.21 0.95 1.22 0.16]\n"
     ]
    }
   ],
   "source": [
    "# change all NaN in reviews_per_month to 0\n",
    "df.reviews_per_month.fillna(0, inplace=True)\n",
    "\n",
    "# sanity check\n",
    "print(df.reviews_per_month.unique()[:10])"
   ]
  },
  {
   "attachments": {},
   "cell_type": "markdown",
   "metadata": {},
   "source": [
    "With this the database is correctly formatted and we can start processing"
   ]
  }
 ],
 "metadata": {
  "kernelspec": {
   "display_name": "Python 3",
   "language": "python",
   "name": "python3"
  },
  "language_info": {
   "codemirror_mode": {
    "name": "ipython",
    "version": 3
   },
   "file_extension": ".py",
   "mimetype": "text/x-python",
   "name": "python",
   "nbconvert_exporter": "python",
   "pygments_lexer": "ipython3",
   "version": "3.10.6"
  },
  "orig_nbformat": 4,
  "vscode": {
   "interpreter": {
    "hash": "916dbcbb3f70747c44a77c7bcd40155683ae19c65e1c03b4aa3499c5328201f1"
   }
  }
 },
 "nbformat": 4,
 "nbformat_minor": 2
}
