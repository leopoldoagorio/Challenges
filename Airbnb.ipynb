{
 "cells": [
  {
   "attachments": {},
   "cell_type": "markdown",
   "metadata": {},
   "source": [
    "# Análisis de datos de alquileres en Nueva York\n"
   ]
  },
  {
   "attachments": {},
   "cell_type": "markdown",
   "metadata": {},
   "source": [
    "## Loading the df"
   ]
  },
  {
   "cell_type": "code",
   "execution_count": 59,
   "metadata": {},
   "outputs": [],
   "source": [
    "import pandas as pd\n",
    "import numpy as np\n",
    "import matplotlib.pyplot as plt\n",
    "import string\n",
    "\n",
    "# Read in the data\n",
    "df = pd.read_csv('./ConjuntosDeDatos/AirBnB2clean.csv')"
   ]
  },
  {
   "attachments": {},
   "cell_type": "markdown",
   "metadata": {},
   "source": [
    "Ahora tengo los datos en df,hago un primer approach de visualización"
   ]
  },
  {
   "cell_type": "code",
   "execution_count": 60,
   "metadata": {},
   "outputs": [
    {
     "name": "stdout",
     "output_type": "stream",
     "text": [
      "(48895, 16)\n",
      "      id                                               name  host_id  \\\n",
      "0  20739  Perfect 2-bedroom in the best part of Williams...    24864   \n",
      "1  65164                                    Ditmas park lot    62595   \n",
      "2  23090            Doorman Gym 2 Beds Luxury Building!5211    52328   \n",
      "3  36673       seagate pravite house 5 mins away from beach     3184   \n",
      "4  52600  Sunny & Clean Apt  ideal location E.Williamsburg!    43677   \n",
      "\n",
      "        host_name neighbourhood_group neighbourhood  latitude  longitude  \\\n",
      "0        Angelina            BROOKLYN             -  40.71983  -73.96465   \n",
      "1           Brian            Brooklyn      Flatbush  40.63809  -73.96445   \n",
      "2  Jeremy & Laura           Manhattan   Murray Hill  40.74404  -73.97217   \n",
      "3           Tural            BROOKLYN      Sea Gate  40.57531  -74.00518   \n",
      "4          Shahar            BROOKLYN  Williamsburg  40.70684  -73.93854   \n",
      "\n",
      "         room_type        price  minimum_nights  number_of_reviews  \\\n",
      "0  Entire home/apt        $ 249              30                  0   \n",
      "1     Private room          $60               2                  0   \n",
      "2     Private room  135 Dollars              30                  2   \n",
      "3  Entire home/apt       USD 99               4                  0   \n",
      "4  Entire home/apt          $90               7                  6   \n",
      "\n",
      "  last_review  reviews_per_month  calculated_host_listings_count  \\\n",
      "0         NaN                NaN                               1   \n",
      "1         NaN                NaN                               1   \n",
      "2  2017-03-31               0.07                              96   \n",
      "3         NaN                NaN                               1   \n",
      "4  2019-06-07               0.15                               2   \n",
      "\n",
      "   availability_365  \n",
      "0                 0  \n",
      "1               173  \n",
      "2               303  \n",
      "3                19  \n",
      "4               302  \n"
     ]
    }
   ],
   "source": [
    "# shape of df\n",
    "print(df.shape)\n",
    "\n",
    "# head of df\n",
    "print(df.head())\n"
   ]
  },
  {
   "attachments": {},
   "cell_type": "markdown",
   "metadata": {},
   "source": [
    "Ya con ver el head hay varios issues:\n",
    "- Brooklyn aparece en minúscula y en mayúscula. \n",
    "- Los precios aparecen como $, Dollars o USD\n",
    "- Hay datos sin el Neighborhood marcado\n",
    "- Si no tiene reviews, reviews_per_month es NaN en vez de 0\n",
    "\n",
    "de la letra: \n",
    "- Inspeccionar los vacios en el dataset:\n",
    "    - Verificar el tipo de datos de cada columna luego de cargada\n",
    "    - Contar la cantidad de vacíos, ceros y valores especiales por columna\n",
    "    - Indicar qué columnas tienen vacíos y como se podrían reparar\n",
    "    - Modificar las columnas con los datos corregidos"
   ]
  },
  {
   "attachments": {},
   "cell_type": "markdown",
   "metadata": {},
   "source": [
    "## Purging the dataframe nulls"
   ]
  },
  {
   "cell_type": "code",
   "execution_count": 61,
   "metadata": {},
   "outputs": [
    {
     "name": "stdout",
     "output_type": "stream",
     "text": [
      "id                                  int64\n",
      "name                               object\n",
      "host_id                             int64\n",
      "host_name                          object\n",
      "neighbourhood_group                object\n",
      "neighbourhood                      object\n",
      "latitude                          float64\n",
      "longitude                         float64\n",
      "room_type                          object\n",
      "price                              object\n",
      "minimum_nights                      int64\n",
      "number_of_reviews                   int64\n",
      "last_review                        object\n",
      "reviews_per_month                 float64\n",
      "calculated_host_listings_count      int64\n",
      "availability_365                    int64\n",
      "dtype: object\n"
     ]
    }
   ],
   "source": [
    "# print the data types of each column\n",
    "print(df.dtypes)\n"
   ]
  },
  {
   "attachments": {},
   "cell_type": "markdown",
   "metadata": {},
   "source": [
    "Lo único llamativo es que price es un object. Debería ser numérico pero no lo es por los caracteres especiales ($, USD, Dol., etc.)."
   ]
  },
  {
   "cell_type": "code",
   "execution_count": 62,
   "metadata": {},
   "outputs": [
    {
     "name": "stdout",
     "output_type": "stream",
     "text": [
      "id                                    0\n",
      "name                                 16\n",
      "host_id                               0\n",
      "host_name                            21\n",
      "neighbourhood_group                   0\n",
      "neighbourhood                         0\n",
      "latitude                              0\n",
      "longitude                             0\n",
      "room_type                             0\n",
      "price                                 0\n",
      "minimum_nights                        0\n",
      "number_of_reviews                     0\n",
      "last_review                       10052\n",
      "reviews_per_month                 10052\n",
      "calculated_host_listings_count        0\n",
      "availability_365                      0\n",
      "dtype: int64\n"
     ]
    }
   ],
   "source": [
    "# print the number of missing values in each column\n",
    "print(df.isnull().sum())"
   ]
  },
  {
   "attachments": {},
   "cell_type": "markdown",
   "metadata": {},
   "source": [
    "Hay nulls en name, host_name, last_review y reviews_per_month. Procedo a chequear por qué"
   ]
  },
  {
   "cell_type": "code",
   "execution_count": 63,
   "metadata": {},
   "outputs": [
    {
     "name": "stdout",
     "output_type": "stream",
     "text": [
      "          id name  host_id host_name neighbourhood_group       neighbourhood  \\\n",
      "840    19249  NaN    14504     Peter           MANHATTAN                   -   \n",
      "2573   57455  NaN    36969    Andrea               BRONX             Fordham   \n",
      "9195   21296  NaN    47920   Vanessa            Brooklyn                   -   \n",
      "11012  41550  NaN    40296      Jeff            Brooklyn  Bedford-Stuyvesant   \n",
      "11064  51067  NaN    38470     Jesse           Manhattan                   -   \n",
      "11325  64832  NaN    49098   Michaël           MANHATTAN                   -   \n",
      "13763  21217  NaN    57157       Yan           Manhattan     Upper West Side   \n",
      "29520  10816  NaN    57238      Josh           Manhattan  Washington Heights   \n",
      "32655  50542  NaN    16911     Lucie            Brooklyn        Williamsburg   \n",
      "33276  26179  NaN    49636  Huei-Yin            BROOKLYN                   -   \n",
      "33818  38831  NaN    43734  Jonathan           MANHATTAN                   -   \n",
      "34039  46342  NaN      238    Miguel               Manh.              Harlem   \n",
      "37898  25296  NaN     5283      Anna           Manhattan        East Village   \n",
      "40015  58064  NaN    27308  Juliette           MANHATTAN           Chinatown   \n",
      "42498  46476  NaN    18779  Kathleen            BROOKLYN            Bushwick   \n",
      "43793  40985  NaN    11030  Carolina            Brooklyn            Bushwick   \n",
      "\n",
      "       latitude  longitude        room_type    price  minimum_nights  \\\n",
      "840    40.71239  -74.01620  Entire home/apt     $400            1000   \n",
      "2573   40.86032  -73.88493      Shared room  USD 130               1   \n",
      "9195   40.66409  -73.92314     Private room      $50               3   \n",
      "11012  40.69421  -73.93234     Private room   USD 70               3   \n",
      "11064  40.73473  -73.99244  Entire home/apt  USD 225               1   \n",
      "11325  40.72046  -73.99550  Entire home/apt      215               7   \n",
      "13763  40.79843  -73.96404     Private room  USD 100               1   \n",
      "29520  40.85198  -73.93108     Private room       40               1   \n",
      "32655  40.71370  -73.94378     Private room    $ 150               1   \n",
      "33276  40.71354  -73.93882     Private room   USD 45               1   \n",
      "33818  40.76436  -73.98573  Entire home/apt      190               4   \n",
      "34039  40.80316  -73.95189  Entire home/apt  USD 300               5   \n",
      "37898  40.73215  -73.98821  Entire home/apt     $200               1   \n",
      "40015  40.71632  -73.99328     Private room   USD 67               4   \n",
      "42498  40.69546  -73.92741  Entire home/apt  USD 110               4   \n",
      "43793  40.70046  -73.92825     Private room     $ 70               1   \n",
      "\n",
      "       number_of_reviews last_review  reviews_per_month  \\\n",
      "840                    0         NaN                NaN   \n",
      "2573                   0         NaN                NaN   \n",
      "9195                   3  2016-08-18               0.07   \n",
      "11012                  0         NaN                NaN   \n",
      "11064                  1  2015-01-01               0.02   \n",
      "11325                  5  2016-01-02               0.09   \n",
      "13763                  0         NaN                NaN   \n",
      "29520                  0         NaN                NaN   \n",
      "32655                  0         NaN                NaN   \n",
      "33276                  0         NaN                NaN   \n",
      "33818                  1  2016-01-05               0.02   \n",
      "34039                  0         NaN                NaN   \n",
      "37898                 28  2015-06-08               0.45   \n",
      "40015                  0         NaN                NaN   \n",
      "42498                  5  2018-08-13               0.27   \n",
      "43793                  0         NaN                NaN   \n",
      "\n",
      "       calculated_host_listings_count  availability_365  \n",
      "840                                 1               362  \n",
      "2573                                1               365  \n",
      "9195                                1               362  \n",
      "11012                               1                 0  \n",
      "11064                               1                 0  \n",
      "11325                               1                 0  \n",
      "13763                               2                 0  \n",
      "29520                               1                 0  \n",
      "32655                               1                 0  \n",
      "33276                               1                 0  \n",
      "33818                               1                 0  \n",
      "34039                               5                 0  \n",
      "37898                               1               341  \n",
      "40015                               1                 0  \n",
      "42498                               1                 0  \n",
      "43793                               1                 0  \n"
     ]
    }
   ],
   "source": [
    "# print the rows with missing name\n",
    "print(df[df['name'].isnull()])\n"
   ]
  },
  {
   "cell_type": "code",
   "execution_count": 64,
   "metadata": {},
   "outputs": [
    {
     "name": "stdout",
     "output_type": "stream",
     "text": [
      "          id                                               name  host_id  \\\n",
      "1900   61295              Spacious 2 bedroom close to Manhattan    27498   \n",
      "4037    5028                       R&S Modern Spacious Hideaway    43896   \n",
      "4561   57984                                  Cozy Room Astoria    11464   \n",
      "4956   24931                 Charming Room in Prospect Heights!    59948   \n",
      "7462   51204                            Cozy Studio in Flatbush    64157   \n",
      "13863  36605                          Modern Quiet Gem Near All    43896   \n",
      "13970  18929         Spacious and Bright Midtown East Apartment    41988   \n",
      "14195  36326    Private Bedroom w/ Balcony view of Central Park    18775   \n",
      "14917  40614                    1 Bedroom in Prime Williamsburg    51705   \n",
      "15600   1778  Best Deal! Lovely place in Manhattan! Time Squ...    16364   \n",
      "23100  34063                               Sunny Room in Harlem    12480   \n",
      "24205  62021                 Sunny, spacious room in Greenpoint    31525   \n",
      "24483   1991    SPRING in the City!! Zen-Style Tranquil Bedroom    17632   \n",
      "24554  49478                    Sunny, Private room in Bushwick    31287   \n",
      "25205   4095            LARGE Prospect Lefferts Gardens Bedroom    58252   \n",
      "30771  25453     Sunny, Large West Village 1 BR Near Everything    42536   \n",
      "31608  19044                 ***SLEEPING IN THE GOLDEN PLACE***    16364   \n",
      "36115  13419                Luxurious, best location, spa inc'l    13656   \n",
      "37138  23279  Amazing room in the centre on Manhatten! Welcome!    16364   \n",
      "41991  56303                     Beautiful Cozy Studio Apt. UWS    44035   \n",
      "43871   1133                                          Bienvenue     3166   \n",
      "\n",
      "      host_name neighbourhood_group     neighbourhood  latitude  longitude  \\\n",
      "1900        NaN               BRONX        Highbridge  40.83844  -73.92489   \n",
      "4037        NaN               Broo.     East Flatbush  40.64345  -73.93643   \n",
      "4561        NaN              Queens  Ditmars Steinway  40.77587  -73.91775   \n",
      "4956        NaN          BROKLYN/NY     Crown Heights  40.67512  -73.96146   \n",
      "7462        NaN          BROKLYN/NY                 -  40.64965  -73.96154   \n",
      "13863       NaN          BROKLYN/NY     East Flatbush  40.65263  -73.93215   \n",
      "13970       NaN           MANHATTAN   Upper East Side  40.76436  -73.96836   \n",
      "14195       NaN           MANHATTAN       East Harlem  40.79766  -73.94824   \n",
      "14917       NaN            BROOKLYN      Williamsburg  40.71838  -73.95630   \n",
      "15600       NaN           Manhattan    Hell's Kitchen  40.75656  -73.99063   \n",
      "23100       NaN           Manhattan                 -  40.82929  -73.94182   \n",
      "24205       NaN            BROOKLYN        Greenpoint  40.73539  -73.95838   \n",
      "24483       NaN               Manh.            Harlem  40.80606  -73.95061   \n",
      "24554       NaN               Broo.          Bushwick  40.70146  -73.92792   \n",
      "25205       NaN          BROKLYN/NY                 -  40.65152  -73.95271   \n",
      "30771       NaN           Manhattan                 -  40.73949  -73.99801   \n",
      "31608       NaN        Manhattan/NY                 -  40.75835  -73.99065   \n",
      "36115       NaN            BROOKLYN        Greenpoint  40.72035  -73.95355   \n",
      "37138       NaN           MANHATTAN    Hell's Kitchen  40.75668  -73.99097   \n",
      "41991       NaN               Manh.   Upper West Side  40.77701  -73.97667   \n",
      "43871       NaN          Queens/NYC                 -  40.72413  -73.76133   \n",
      "\n",
      "             room_type        price  minimum_nights  number_of_reviews  \\\n",
      "1900   Entire home/apt   75 Dollars               4                 37   \n",
      "4037   Entire home/apt          100               2                157   \n",
      "4561      Private room         $ 45               1                  5   \n",
      "4956      Private room   50 Dollars               1                  0   \n",
      "7462   Entire home/apt         $100              30                 49   \n",
      "13863  Entire home/apt       USD 85               2                182   \n",
      "13970  Entire home/apt          325               1                  0   \n",
      "14195     Private room      139 Do.               1                  6   \n",
      "14917  Entire home/apt      USD 145               1                  0   \n",
      "15600     Private room      USD 120               1                109   \n",
      "23100     Private room         $ 28               1                  1   \n",
      "24205     Private room         $ 55              10                  2   \n",
      "24483     Private room   86 Dollars               3                 34   \n",
      "24554     Private room           37               1                  1   \n",
      "25205     Private room       USD 55               7                  0   \n",
      "30771  Entire home/apt  220 Dollars               4                 81   \n",
      "31608     Private room  120 Dollars               1                 88   \n",
      "36115  Entire home/apt      USD 195               1                  1   \n",
      "37138     Private room      120 Do.               1                 89   \n",
      "41991  Entire home/apt      USD 180               4                  0   \n",
      "43871     Private room           50               1                 43   \n",
      "\n",
      "      last_review  reviews_per_month  calculated_host_listings_count  \\\n",
      "1900   2019-07-07               1.21                               1   \n",
      "4037   2019-06-19               3.18                               2   \n",
      "4561   2017-01-01               0.13                               1   \n",
      "4956          NaN                NaN                               1   \n",
      "7462   2017-01-02               0.69                               1   \n",
      "13863  2019-06-19               3.59                               2   \n",
      "13970         NaN                NaN                               1   \n",
      "14195  2018-08-12               0.46                               1   \n",
      "14917         NaN                NaN                               1   \n",
      "15600  2019-01-01               5.97                               3   \n",
      "23100  2015-08-01               0.02                               1   \n",
      "24205  2016-11-05               0.05                               1   \n",
      "24483  2019-05-23               1.00                               1   \n",
      "24554  2015-07-01               0.02                               1   \n",
      "25205         NaN                NaN                               1   \n",
      "30771  2019-07-02               2.11                               1   \n",
      "31608  2018-12-14               4.93                               3   \n",
      "36115  2015-10-20               0.02                               1   \n",
      "37138  2019-01-01               5.16                               3   \n",
      "41991         NaN                NaN                               1   \n",
      "43871  2019-07-08               0.45                               1   \n",
      "\n",
      "       availability_365  \n",
      "1900                 26  \n",
      "4037                342  \n",
      "4561                  0  \n",
      "4956                  0  \n",
      "7462                342  \n",
      "13863               318  \n",
      "13970                 0  \n",
      "14195                 0  \n",
      "14917                 0  \n",
      "15600                 0  \n",
      "23100                 0  \n",
      "24205                 0  \n",
      "24483               359  \n",
      "24554                 0  \n",
      "25205                69  \n",
      "30771               217  \n",
      "31608                 0  \n",
      "36115                 0  \n",
      "37138                 0  \n",
      "41991                 0  \n",
      "43871                88  \n"
     ]
    }
   ],
   "source": [
    "# print the rows with missing host_name\n",
    "print(df[df['host_name'].isnull()])"
   ]
  },
  {
   "attachments": {},
   "cell_type": "markdown",
   "metadata": {},
   "source": [
    "Las entradas con algún nombre vacío parecen ser válidas por lo demás. Podemos sustituir el nombre por un nombre ficto, como 'No Name'"
   ]
  },
  {
   "cell_type": "code",
   "execution_count": 65,
   "metadata": {},
   "outputs": [],
   "source": [
    "# replace missing values in name with 'No Name'\n",
    "df['name'].fillna('No Name', inplace=True)\n",
    "\n",
    "# replace missing values in host_name with 'No Name'\n",
    "df['host_name'].fillna('No Name', inplace=True)"
   ]
  },
  {
   "cell_type": "code",
   "execution_count": 66,
   "metadata": {},
   "outputs": [
    {
     "name": "stdout",
     "output_type": "stream",
     "text": [
      "[  0   1   2   3   4   5   6   7   8   9  10  11  12  13  14  15  16  17\n",
      "  18  19  20  21  22  23  24  25  26  27  28  29  30  31  32  33  34  35\n",
      "  36  37  38  39  40  41  42  43  44  45  46  47  48  49  50  51  52  53\n",
      "  54  55  56  57  58  59  60  61  62  63  64  65  66  67  68  69  70  71\n",
      "  72  73  74  75  76  77  78  79  80  81  82  83  84  85  86  87  88  89\n",
      "  90  91  92  93  94  95  96  97  98  99 100 101 102 103 104 105 106 107\n",
      " 108 109 110 111 112 113 114 115 116 117 118 119 120 121 122 123 124 125\n",
      " 126 127 128 129 130 131 132 133 134 135 136 137 138 139 140 141 142 143\n",
      " 144 145 146 147 148 149 150 151 152 153 154 155 156 157 158 159 160 161\n",
      " 162 163 164 165 166 167 168 169 170 171 172 173 174 175 176 177 178 179\n",
      " 180 181 182 183 184 185 186 187 188 189 190 191 192 193 194 195 196 197\n",
      " 198 199 200 201 202 203 204 205 206 207 208 209 210 211 212 213 214 215\n",
      " 216 217 218 219 220 221 222 223 224 225 226 227 228 229 230 231 232 233\n",
      " 234 235 236 237 238 239 240 241 242 243 244 245 246 247 248 249 250 251\n",
      " 252 253 254 255 256 257 258 259 260 261 262 263 264 265 266 267 268 269\n",
      " 270 271 272 273 274 275 276 277 278 279 280 281 282 283 284 285 286 287\n",
      " 288 289 290 291 292 293 294 295 296 297 298 299 300 301 302 303 304 305\n",
      " 306 307 308 309 310 311 312 313 314 315 316 317 318 319 320 321 322 323\n",
      " 324 325 326 327 328 329 330 331 332 333 334 335 336 337 338 339 340 341\n",
      " 342 343 344 345 346 347 348 349 350 351 352 353 354 355 356 357 358 359\n",
      " 360 361 362 363 364 365]\n"
     ]
    }
   ],
   "source": [
    "#sanity check availability_365 does not exceed 365 days\n",
    "print(np.sort(df['availability_365'].unique()))"
   ]
  },
  {
   "attachments": {},
   "cell_type": "markdown",
   "metadata": {},
   "source": [
    "Puedo solucionar los nulls de reviews_per_month reemplazandolos por 0, parece ser un error de que se hace nan cuando la casa tiene 0 reseñas. \n",
    "\n",
    "Puedo poner un 'No review' en los nans de \"last_review\", que queda en nan cuando no se tienen reviews."
   ]
  },
  {
   "cell_type": "code",
   "execution_count": 67,
   "metadata": {},
   "outputs": [
    {
     "name": "stdout",
     "output_type": "stream",
     "text": [
      "[0.   0.07 0.15 3.88 4.69 0.22 0.21 0.95 1.22 0.16]\n"
     ]
    }
   ],
   "source": [
    "# change all NaN in reviews_per_month to 0\n",
    "df.reviews_per_month.fillna(0, inplace=True)\n",
    "\n",
    "# sanity check\n",
    "print(df.reviews_per_month.unique()[:10])\n",
    "\n",
    "# change all NaNs in last_review to 'No Review'\n",
    "df.last_review.fillna('No Review', inplace=True)"
   ]
  },
  {
   "cell_type": "code",
   "execution_count": 68,
   "metadata": {},
   "outputs": [
    {
     "name": "stdout",
     "output_type": "stream",
     "text": [
      "id                                0\n",
      "name                              0\n",
      "host_id                           0\n",
      "host_name                         0\n",
      "neighbourhood_group               0\n",
      "neighbourhood                     0\n",
      "latitude                          0\n",
      "longitude                         0\n",
      "room_type                         0\n",
      "price                             0\n",
      "minimum_nights                    0\n",
      "number_of_reviews                 0\n",
      "last_review                       0\n",
      "reviews_per_month                 0\n",
      "calculated_host_listings_count    0\n",
      "availability_365                  0\n",
      "dtype: int64\n"
     ]
    }
   ],
   "source": [
    "# sanity check that now there are no NaNs in df\n",
    "print(df.isnull().sum())"
   ]
  },
  {
   "attachments": {},
   "cell_type": "markdown",
   "metadata": {},
   "source": [
    "## Reformatting columns"
   ]
  },
  {
   "cell_type": "code",
   "execution_count": 69,
   "metadata": {},
   "outputs": [
    {
     "name": "stdout",
     "output_type": "stream",
     "text": [
      "['BROOKLYN' 'Brooklyn' 'Manhattan' 'MANHATTAN' 'BROKLYN/NY' 'QUEENS'\n",
      " 'Manhattan/NY' 'Broo.' 'Manh.' 'Queens' 'BRONX' 'Bronx' 'Queens/NYC'\n",
      " 'MANHATAN' 'STATEN ISLAND' 'Staten Island' 'ST. ISL.' 'Staten Isl.']\n"
     ]
    }
   ],
   "source": [
    "#list all unique values in the column 'neighbourhood_group'\n",
    "print(df.neighbourhood_group.unique())"
   ]
  },
  {
   "cell_type": "code",
   "execution_count": 70,
   "metadata": {},
   "outputs": [
    {
     "name": "stdout",
     "output_type": "stream",
     "text": [
      "['Brooklyn' 'Manhattan' 'Queens' 'Bronx' 'Staten Island']\n"
     ]
    }
   ],
   "source": [
    "# 'BROOKLYN' 'Brooklyn' 'BROKLYN/NY' 'Broo.' should be fused\n",
    "# 'Manhattan' 'MANHATTAN' 'Manhattan/NY' 'Manh.' 'MANHATAN' should be fused\n",
    "# 'QUEENS' 'Queens' 'Queens/NYC' should be fused\n",
    "# 'BRONX' 'Bronx' should be fused\n",
    "# 'STATEN ISLAND' 'Staten Island' 'ST. ISL.' 'Staten Isl.' should be fused\n",
    "\n",
    "# Replace the values in the column 'neighbourhood_group'\n",
    "df.neighbourhood_group.replace(['BROOKLYN', 'Brooklyn', 'BROKLYN/NY', 'Broo.'], 'Brooklyn', inplace=True)\n",
    "df.neighbourhood_group.replace(['Manhattan', 'MANHATTAN', 'Manhattan/NY', 'Manh.', 'MANHATAN'], 'Manhattan', inplace=True)\n",
    "df.neighbourhood_group.replace(['QUEENS', 'Queens', 'Queens/NYC'], 'Queens', inplace=True)\n",
    "df.neighbourhood_group.replace(['BRONX', 'Bronx'], 'Bronx', inplace=True)\n",
    "df.neighbourhood_group.replace(['STATEN ISLAND', 'Staten Island', 'ST. ISL.', 'Staten Isl.'], 'Staten Island', inplace=True)\n",
    "\n",
    "#list all unique values in the column 'neighbourhood_group'\n",
    "print(df.neighbourhood_group.unique()) #sanity check"
   ]
  },
  {
   "cell_type": "code",
   "execution_count": 71,
   "metadata": {},
   "outputs": [
    {
     "name": "stdout",
     "output_type": "stream",
     "text": [
      "['-' 'Flatbush' 'Murray Hill' 'Sea Gate' 'Williamsburg'\n",
      " 'Bedford-Stuyvesant' 'Chelsea' 'Park Slope' 'Fresh Meadows'\n",
      " \"Hell's Kitchen\" 'Upper West Side' 'West Village' 'SoHo'\n",
      " 'Prospect-Lefferts Gardens' 'Chinatown' 'Bushwick' 'Ridgewood' 'Kips Bay'\n",
      " 'Crown Heights' 'Gramercy' 'Upper East Side' 'South Slope'\n",
      " 'Financial District' 'Prospect Heights' 'Elmhurst' 'Lower East Side'\n",
      " 'Midtown' 'East New York' 'Greenpoint' 'Harlem' 'Gravesend'\n",
      " 'Sheepshead Bay' 'East Village' 'Long Island City' 'NoHo' 'Fort Greene'\n",
      " 'Midwood' 'Morris Park' 'Boerum Hill' 'South Ozone Park' 'Flushing'\n",
      " 'East Harlem' 'Inwood' 'Sunset Park' 'Pelham Gardens' 'Astoria'\n",
      " 'Sunnyside' 'Morris Heights' 'Brownsville' 'East Elmhurst' 'Civic Center'\n",
      " 'Washington Heights' 'Bay Ridge' 'Clinton Hill' 'Wakefield'\n",
      " 'East Flatbush' 'Brooklyn Heights' 'Morningside Heights'\n",
      " 'Theater District' 'Tribeca' 'Middle Village' 'Canarsie' 'Kingsbridge'\n",
      " 'Bellerose' 'Kensington' 'Cypress Hills' 'Windsor Terrace' 'Flatlands'\n",
      " 'Jamaica' 'Little Italy' 'Roosevelt Island' 'Gowanus' 'Ditmars Steinway'\n",
      " 'Richmond Hill' 'Greenwich Village' 'Kew Gardens Hills' 'Borough Park'\n",
      " 'Port Morris' 'Carroll Gardens' 'Forest Hills' 'Woodside' 'Morrisania'\n",
      " 'Battery Park City' 'Queens Village' 'Fordham' 'Hollis' 'East Morrisania'\n",
      " 'St. George' 'Eastchester' 'Nolita' 'Laurelton' 'Brighton Beach'\n",
      " 'Maspeth' 'Rockaway Beach' 'Parkchester' 'Red Hook' 'Stapleton'\n",
      " 'Vinegar Hill' 'Springfield Gardens' 'Rego Park' 'Stuyvesant Town'\n",
      " 'Woodhaven' 'Rosedale' 'Williamsbridge' 'Longwood' 'Mount Hope'\n",
      " 'Huguenot' 'Two Bridges' 'Concord' 'Glendale' 'Briarwood' 'Bensonhurst'\n",
      " 'Jackson Heights' 'City Island' 'Pelham Bay' 'Downtown Brooklyn'\n",
      " 'University Heights' 'Arverne' 'Mott Haven' 'Kew Gardens'\n",
      " 'New Dorp Beach' 'Bath Beach' 'Bronxdale' 'Shore Acres' 'Concourse'\n",
      " 'Ozone Park' 'Flatiron District' 'Bergen Beach' 'Columbia St'\n",
      " 'Throgs Neck' 'DUMBO' 'Cobble Hill' 'Arrochar' 'Highbridge'\n",
      " 'Fort Hamilton' 'Tompkinsville' 'Claremont Village' 'Manhattan Beach'\n",
      " 'Concourse Village' 'Soundview' 'Tottenville' 'Bayside' 'Allerton'\n",
      " 'Van Nest' 'College Point' 'Douglaston' 'Clason Point' 'St. Albans'\n",
      " 'Bayswater' 'Mount Eden' 'Breezy Point' 'Melrose' 'Belle Harbor'\n",
      " 'Clifton' 'Hunts Point' 'Belmont' 'Corona' 'Jamaica Estates'\n",
      " 'Randall Manor' 'Tremont' 'Marble Hill' 'Schuylerville' 'Port Richmond'\n",
      " 'Navy Yard' 'Howland Hook' 'Spuyten Duyvil' 'Grant City' 'Whitestone'\n",
      " 'Edenwald' 'Cambria Heights' 'Dyker Heights' 'Great Kills' 'Mill Basin'\n",
      " 'Emerson Hill' 'New Springville' 'Riverdale' 'West Brighton'\n",
      " 'Coney Island' 'Norwood' 'North Riverdale' 'Dongan Hills' 'Neponsit'\n",
      " 'Castle Hill' 'Midland Beach' 'Unionport' 'Oakwood' 'Far Rockaway'\n",
      " 'Little Neck' 'Eltingville' 'Howard Beach' 'Mariners Harbor'\n",
      " 'South Beach' 'Olinville' 'Grymes Hill' 'Woodlawn' 'Westchester Square'\n",
      " 'Fieldston' 'Edgemere' 'Rosebank' 'Baychester' 'Rossville' 'Bay Terrace'\n",
      " \"Prince's Bay\" \"Bull's Head\" 'Jamaica Hills' 'Woodrow' 'Graniteville'\n",
      " 'New Brighton' 'Castleton Corners' 'Todt Hill' 'Westerleigh'\n",
      " 'Bay Terrace, Staten Island' 'New Dorp' 'Lighthouse Hill' 'Arden Heights'\n",
      " 'West Farms' 'Co-op City' 'Holliswood' 'Richmondtown' 'Willowbrook']\n"
     ]
    }
   ],
   "source": [
    "#list all unique values in the column 'neighbourhood' ordered alphabetically\n",
    "print(df.neighbourhood.unique())"
   ]
  },
  {
   "attachments": {},
   "cell_type": "markdown",
   "metadata": {},
   "source": [
    "There seem to be no coincidences in the 221 neighborhoods."
   ]
  },
  {
   "cell_type": "code",
   "execution_count": 72,
   "metadata": {},
   "outputs": [
    {
     "name": "stdout",
     "output_type": "stream",
     "text": [
      "['230' '$ 41' 'USD 85' '200 Do.' '$ 38' '59 Dollars' 'USD 119' '74'\n",
      " 'USD 198' 'USD 129' '125' 'USD 35' '50 Dollars' '$274' 'USD 125' '175'\n",
      " '220 Dollars' '140' '241 Dollars' '$ 35' 'USD 123' '350 Dollars'\n",
      " '195 Do.' '199 Do.' 'USD 200' '$225' 'USD 325' '225 Dollars' '70 Do.'\n",
      " 'USD 890' '$475' '250' '96 Dollars' '46 Dollars' '$ 90' '375 Dollars'\n",
      " '$165' '55 Dollars' '190 Dollars' '$155' '$40' '105 Dollars' '$ 255'\n",
      " '$280' 'USD 130' '53' '20' 'USD 300' '75 Dollars' '299' '$ 737' '$72'\n",
      " 'USD 134' '70 Dollars' 'USD 195' '65 Do.' '269' '$99' '200' '$ 95']\n"
     ]
    }
   ],
   "source": [
    "#print some unique values in the price column\n",
    "print(df.price.unique()[40:100])"
   ]
  },
  {
   "cell_type": "code",
   "execution_count": 73,
   "metadata": {},
   "outputs": [
    {
     "name": "stdout",
     "output_type": "stream",
     "text": [
      "[  74.  198.  129.   35.  274.  175.  220.  140.  241.  123.  350.  195.\n",
      "  325.  890.  475.   96.   46.  375.  165.   55.  190.  155.  105.  255.\n",
      "  280.  130.   53.   20.  737.   72.  134.   65.  269.   95.  379.  287.\n",
      "   51.  100.   36.   12.   49.  170.  160.  172.  399.  189.   52.  112.\n",
      "  124.  117.  187.  289.  136.  159. 6419.  550.  151.  347.  227.  239.]\n"
     ]
    }
   ],
   "source": [
    "# now fix the issue with dollar signs, retaining only the numeric values\n",
    "df.price = df.price.str.replace('[^\\d.]', '', regex=True) #remove all non-numeric characters\n",
    "df.price = df.price.astype(float)\n",
    "\n",
    "# sanity check\n",
    "print(df.price.unique()[40:100])\n"
   ]
  },
  {
   "attachments": {},
   "cell_type": "markdown",
   "metadata": {},
   "source": [
    "With this the database is correctly formatted and we can start processing"
   ]
  },
  {
   "attachments": {},
   "cell_type": "markdown",
   "metadata": {},
   "source": [
    "## Generar un reporte gráfico con los precios por barrios/zonas de la ciudad."
   ]
  },
  {
   "cell_type": "code",
   "execution_count": 78,
   "metadata": {},
   "outputs": [
    {
     "data": {
      "image/png": "[encoded data removed]",
      "text/plain": [
       "<Figure size 640x480 with 1 Axes>"
      ]
     },
     "metadata": {},
     "output_type": "display_data"
    }
   ],
   "source": [
    "# create a new dataframe with the median price per neighbourhood_group\n",
    "df_price = df.groupby('neighbourhood_group').agg({'price': 'median'}).reset_index()\n",
    "\n",
    "# create a bar plot of the new dataframe\n",
    "fig, ax = plt.subplots()\n",
    "df_price.plot(kind='bar', x='neighbourhood_group', y='price', ax=ax, color='blue')\n",
    "\n",
    "# set the plot title and axis labels\n",
    "ax.set_title('Mean price by neighbourhood group')\n",
    "ax.set_xlabel('Neighbourhood group')\n",
    "ax.set_ylabel('Price')\n",
    "\n",
    "# display the plot\n",
    "plt.show()"
   ]
  },
  {
   "cell_type": "code",
   "execution_count": 83,
   "metadata": {},
   "outputs": [
    {
     "data": {
      "text/plain": [
       "(0.0, 1250.0)"
      ]
     },
     "execution_count": 83,
     "metadata": {},
     "output_type": "execute_result"
    },
    {
     "data": {
      "image/png": "[encoded data removed]",
      "text/plain": [
       "<Figure size 640x480 with 1 Axes>"
      ]
     },
     "metadata": {},
     "output_type": "display_data"
    }
   ],
   "source": [
    "# plot all prices of NYC\n",
    "ax = df.price.plot(kind='hist', bins=200, title='Price distribution in NYC')\n",
    "ax.set_xlim((0, 1250))"
   ]
  }
 ],
 "metadata": {
  "kernelspec": {
   "display_name": "Python 3",
   "language": "python",
   "name": "python3"
  },
  "language_info": {
   "codemirror_mode": {
    "name": "ipython",
    "version": 3
   },
   "file_extension": ".py",
   "mimetype": "text/x-python",
   "name": "python",
   "nbconvert_exporter": "python",
   "pygments_lexer": "ipython3",
   "version": "3.10.6"
  },
  "orig_nbformat": 4,
  "vscode": {
   "interpreter": {
    "hash": "916dbcbb3f70747c44a77c7bcd40155683ae19c65e1c03b4aa3499c5328201f1"
   }
  }
 },
 "nbformat": 4,
 "nbformat_minor": 2
}
