{
 "cells": [
  {
   "attachments": {},
   "cell_type": "markdown",
   "metadata": {},
   "source": [
    "# Análisis de datos de alquileres en Nueva York\n"
   ]
  },
  {
   "cell_type": "code",
   "execution_count": 1,
   "metadata": {},
   "outputs": [],
   "source": [
    "import pandas as pd\n",
    "import numpy as np\n",
    "import matplotlib.pyplot as plt\n",
    "\n",
    "# Read in the data\n",
    "df = pd.read_csv('./ConjuntosDeDatos/AirBnB2clean.csv')"
   ]
  },
  {
   "attachments": {},
   "cell_type": "markdown",
   "metadata": {},
   "source": [
    "Ahora tengo los datos en df,hago un primer approach de visualización"
   ]
  },
  {
   "cell_type": "code",
   "execution_count": 3,
   "metadata": {},
   "outputs": [
    {
     "name": "stdout",
     "output_type": "stream",
     "text": [
      "(48895, 16)\n",
      "      id                                               name  host_id  \\\n",
      "0  20739  Perfect 2-bedroom in the best part of Williams...    24864   \n",
      "1  65164                                    Ditmas park lot    62595   \n",
      "2  23090            Doorman Gym 2 Beds Luxury Building!5211    52328   \n",
      "3  36673       seagate pravite house 5 mins away from beach     3184   \n",
      "4  52600  Sunny & Clean Apt  ideal location E.Williamsburg!    43677   \n",
      "\n",
      "        host_name neighbourhood_group neighbourhood  latitude  longitude  \\\n",
      "0        Angelina            BROOKLYN             -  40.71983  -73.96465   \n",
      "1           Brian            Brooklyn      Flatbush  40.63809  -73.96445   \n",
      "2  Jeremy & Laura           Manhattan   Murray Hill  40.74404  -73.97217   \n",
      "3           Tural            BROOKLYN      Sea Gate  40.57531  -74.00518   \n",
      "4          Shahar            BROOKLYN  Williamsburg  40.70684  -73.93854   \n",
      "\n",
      "         room_type        price  minimum_nights  number_of_reviews  \\\n",
      "0  Entire home/apt        $ 249              30                  0   \n",
      "1     Private room          $60               2                  0   \n",
      "2     Private room  135 Dollars              30                  2   \n",
      "3  Entire home/apt       USD 99               4                  0   \n",
      "4  Entire home/apt          $90               7                  6   \n",
      "\n",
      "  last_review  reviews_per_month  calculated_host_listings_count  \\\n",
      "0         NaN                NaN                               1   \n",
      "1         NaN                NaN                               1   \n",
      "2  2017-03-31               0.07                              96   \n",
      "3         NaN                NaN                               1   \n",
      "4  2019-06-07               0.15                               2   \n",
      "\n",
      "   availability_365  \n",
      "0                 0  \n",
      "1               173  \n",
      "2               303  \n",
      "3                19  \n",
      "4               302  \n"
     ]
    }
   ],
   "source": [
    "# shape of df\n",
    "print(df.shape)\n",
    "\n",
    "# head of df\n",
    "print(df.head())\n"
   ]
  },
  {
   "attachments": {},
   "cell_type": "markdown",
   "metadata": {},
   "source": [
    "Ya con ver el head hay varios issues:\n",
    "- Brooklyn aparece en minúscula y en mayúscula. \n",
    "- Los precios aparecen como $, Dollars o USD\n",
    "- Hay datos sin el Neighborhood marcado\n",
    "- Si no tiene reviews, reviews_per_month es NaN en vez de 0"
   ]
  },
  {
   "cell_type": "code",
   "execution_count": 4,
   "metadata": {},
   "outputs": [
    {
     "name": "stdout",
     "output_type": "stream",
     "text": [
      "['BROOKLYN' 'Brooklyn' 'Manhattan' 'MANHATTAN' 'BROKLYN/NY' 'QUEENS'\n",
      " 'Manhattan/NY' 'Broo.' 'Manh.' 'Queens' 'BRONX' 'Bronx' 'Queens/NYC'\n",
      " 'MANHATAN' 'STATEN ISLAND' 'Staten Island' 'ST. ISL.' 'Staten Isl.']\n"
     ]
    }
   ],
   "source": [
    "#list all unique values in the column 'neighbourhood_group'\n",
    "print(df.neighbourhood_group.unique())"
   ]
  },
  {
   "cell_type": "code",
   "execution_count": 5,
   "metadata": {},
   "outputs": [
    {
     "name": "stdout",
     "output_type": "stream",
     "text": [
      "['Brooklyn' 'Manhattan' 'Queens' 'Bronx' 'Staten Island']\n"
     ]
    }
   ],
   "source": [
    "# 'BROOKLYN' 'Brooklyn' 'BROKLYN/NY' 'Broo.' should be fused\n",
    "# 'Manhattan' 'MANHATTAN' 'Manhattan/NY' 'Manh.' 'MANHATAN' should be fused\n",
    "# 'QUEENS' 'Queens' 'Queens/NYC' should be fused\n",
    "# 'BRONX' 'Bronx' should be fused\n",
    "# 'STATEN ISLAND' 'Staten Island' 'ST. ISL.' 'Staten Isl.' should be fused\n",
    "\n",
    "# Replace the values in the column 'neighbourhood_group'\n",
    "df.neighbourhood_group.replace(['BROOKLYN', 'Brooklyn', 'BROKLYN/NY', 'Broo.'], 'Brooklyn', inplace=True)\n",
    "df.neighbourhood_group.replace(['Manhattan', 'MANHATTAN', 'Manhattan/NY', 'Manh.', 'MANHATAN'], 'Manhattan', inplace=True)\n",
    "df.neighbourhood_group.replace(['QUEENS', 'Queens', 'Queens/NYC'], 'Queens', inplace=True)\n",
    "df.neighbourhood_group.replace(['BRONX', 'Bronx'], 'Bronx', inplace=True)\n",
    "df.neighbourhood_group.replace(['STATEN ISLAND', 'Staten Island', 'ST. ISL.', 'Staten Isl.'], 'Staten Island', inplace=True)\n",
    "\n",
    "#list all unique values in the column 'neighbourhood_group'\n",
    "print(df.neighbourhood_group.unique()) #sanity check"
   ]
  }
 ],
 "metadata": {
  "kernelspec": {
   "display_name": "Python 3",
   "language": "python",
   "name": "python3"
  },
  "language_info": {
   "codemirror_mode": {
    "name": "ipython",
    "version": 3
   },
   "file_extension": ".py",
   "mimetype": "text/x-python",
   "name": "python",
   "nbconvert_exporter": "python",
   "pygments_lexer": "ipython3",
   "version": "3.10.6"
  },
  "orig_nbformat": 4,
  "vscode": {
   "interpreter": {
    "hash": "916dbcbb3f70747c44a77c7bcd40155683ae19c65e1c03b4aa3499c5328201f1"
   }
  }
 },
 "nbformat": 4,
 "nbformat_minor": 2
}
